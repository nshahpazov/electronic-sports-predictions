{
 "metadata": {
  "language_info": {
   "codemirror_mode": {
    "name": "ipython",
    "version": 3
   },
   "file_extension": ".py",
   "mimetype": "text/x-python",
   "name": "python",
   "nbconvert_exporter": "python",
   "pygments_lexer": "ipython3",
   "version": "3.9.2"
  },
  "orig_nbformat": 2,
  "kernelspec": {
   "name": "python392jvsc74a57bd01f638f2ca7539ec28c41b7df36d6ad28915baab15e9a88f50e3323c925045fd2",
   "display_name": "Python 3.9.2 64-bit ('3.9.2': pyenv)"
  }
 },
 "nbformat": 4,
 "nbformat_minor": 2,
 "cells": [
  {
   "cell_type": "code",
   "execution_count": 5,
   "metadata": {},
   "outputs": [],
   "source": [
    "from trueskill import Rating, quality_1vs1, rate_1vs1"
   ]
  },
  {
   "cell_type": "code",
   "execution_count": 7,
   "metadata": {},
   "outputs": [],
   "source": [
    "alice, bob = Rating(25), Rating(30)\n"
   ]
  },
  {
   "cell_type": "code",
   "execution_count": 8,
   "metadata": {},
   "outputs": [
    {
     "output_type": "execute_result",
     "data": {
      "text/plain": [
       "trueskill.Rating(mu=25.000, sigma=8.333)"
      ],
      "text/latex": "$\\mathcal{ N }( 25.000, 8.333^2 )$"
     },
     "metadata": {},
     "execution_count": 8
    }
   ],
   "source": [
    "# try to get the rating before the match with a custom query. This works only for solo and party\n",
    "# check what percentage of our data have ranks for the matches so that we know whether to \n",
    "# use yang data or crawl new data with history\n",
    "\n",
    "# confirm that the solo rank is for played solo heroes or whether is not just the player not playing in a team\n",
    "\n",
    "# check whether yang approach wouldn't work only with mmr rating and not the transformation they are doing"
   ]
  }
 ]
}