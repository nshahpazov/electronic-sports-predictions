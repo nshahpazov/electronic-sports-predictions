{
 "cells": [
  {
   "cell_type": "markdown",
   "metadata": {},
   "source": [
    "# Predicting the winning side of Dota2"
   ]
  },
  {
   "cell_type": "markdown",
   "metadata": {},
   "source": [
    "### 1. Libraries imports"
   ]
  },
  {
   "cell_type": "code",
   "execution_count": 25,
   "metadata": {},
   "outputs": [],
   "source": [
    "import pandas as pd\n",
    "import numpy as np\n",
    "import seaborn as sns\n",
    "\n",
    "from sklearn.preprocessing import MinMaxScaler, StandardScaler, FunctionTransformer\n",
    "from sklearn.preprocessing import PolynomialFeatures\n",
    "\n",
    "from sklearn.pipeline import Pipeline, FeatureUnion\n",
    "from sklearn.dummy import DummyRegressor\n",
    "\n",
    "from sklearn.utils import check_array\n",
    "from sklearn.base import TransformerMixin, BaseEstimator\n",
    "from sklearn.linear_model import LogisticRegression\n",
    "from sklearn.preprocessing import OneHotEncoder\n",
    "\n",
    "# Model assement functionality\n",
    "from sklearn.model_selection import LeaveOneOut, KFold, train_test_split, cross_val_score\n",
    "from sklearn.metrics import roc_curve, plot_roc_curve, roc_auc_score\n",
    "\n",
    "from sklearn.neural_network import MLPClassifier"
   ]
  },
  {
   "cell_type": "markdown",
   "metadata": {},
   "source": [
    "### Game Modes"
   ]
  },
  {
   "cell_type": "markdown",
   "metadata": {
    "jupyter": {
     "source_hidden": true
    }
   },
   "source": [
    "| id | Name                   |\n",
    "|----|------------------------|\n",
    "| 0  | No Game Mode           |\n",
    "| 1  | All Pick               |\n",
    "| 2  | Captain's Mode         |\n",
    "| 3  | Random Draft           |\n",
    "| 4  | Single Draft           |\n",
    "| 5  | All Random             |\n",
    "| 7  | Diretide               |\n",
    "| 8  | Reverse Captain's Mode |\n",
    "| 9  | Greeviling             |\n",
    "| 10 | Tutorial               |\n",
    "| 11 | Mid Only               |\n",
    "| 12 | Least Played           |\n",
    "| 13 | New Player Pool        |\n",
    "| 14 | Compendium Matchmaking |\n",
    "| 15 | Custom                 |\n",
    "| 16 | Captain's Draft        |\n",
    "| 17 | Balanced Draft         |\n",
    "| 18 | Ability Draft          |\n",
    "| 20 | All Random Deathmatch  |\n",
    "| 21 | Solo Mid 1v1           |\n",
    "| 22 | Ranked All Pick        |"
   ]
  },
  {
   "cell_type": "markdown",
   "metadata": {},
   "source": [
    "1, 2, 3, 4, 5, 12, 16"
   ]
  },
  {
   "cell_type": "markdown",
   "metadata": {},
   "source": [
    "### Data imports"
   ]
  },
  {
   "cell_type": "code",
   "execution_count": 2,
   "metadata": {},
   "outputs": [],
   "source": [
    "players_data = pd.read_csv(\"./data/players.csv\")\n",
    "matches_data = pd.read_csv(\"./data/match.csv\")\n",
    "player_time_data = pd.read_csv('./data/player_time.csv')\n",
    "players_data = players_data.merge(matches_data[[\"radiant_win\", \"match_id\", \"game_mode\", 'duration']], on=\"match_id\")\n"
   ]
  },
  {
   "cell_type": "markdown",
   "metadata": {},
   "source": [
    "### Model selection and assesment"
   ]
  },
  {
   "cell_type": "markdown",
   "metadata": {},
   "source": [
    "##### Assumptions of the model\n",
    "* 1. All players play equally every hero\n",
    "* 2. All players in a match are playing similiarly good\n",
    "* 3. The player doesn't progress with time (k-fold estimate)\n",
    "\n",
    "* The game mode is either all pick, single draft, all random, random draft, captain’s draft, captain’s mode, or least played.\n",
    "\n",
    "* The skill level of the players is “very-high,” which corresponds to roughly the top 8% of players. \n",
    "* No players leave the match before the game is completed."
   ]
  },
  {
   "cell_type": "markdown",
   "metadata": {},
   "source": [
    "### Data preparation for feature vector of heroes"
   ]
  },
  {
   "cell_type": "markdown",
   "metadata": {},
   "source": [
    "#### Remove data where some of the players has left or is abandoned"
   ]
  },
  {
   "cell_type": "code",
   "execution_count": 3,
   "metadata": {
    "collapsed": true,
    "jupyter": {
     "outputs_hidden": true
    }
   },
   "outputs": [
    {
     "data": {
      "text/html": [
       "<div>\n",
       "<style scoped>\n",
       "    .dataframe tbody tr th:only-of-type {\n",
       "        vertical-align: middle;\n",
       "    }\n",
       "\n",
       "    .dataframe tbody tr th {\n",
       "        vertical-align: top;\n",
       "    }\n",
       "\n",
       "    .dataframe thead th {\n",
       "        text-align: right;\n",
       "    }\n",
       "</style>\n",
       "<table border=\"1\" class=\"dataframe\">\n",
       "  <thead>\n",
       "    <tr style=\"text-align: right;\">\n",
       "      <th></th>\n",
       "      <th>match_id</th>\n",
       "      <th>account_id</th>\n",
       "      <th>hero_id</th>\n",
       "      <th>player_slot</th>\n",
       "      <th>gold</th>\n",
       "      <th>gold_spent</th>\n",
       "      <th>gold_per_min</th>\n",
       "      <th>xp_per_min</th>\n",
       "      <th>kills</th>\n",
       "      <th>deaths</th>\n",
       "      <th>...</th>\n",
       "      <th>unit_order_ping_ability</th>\n",
       "      <th>unit_order_move_to_direction</th>\n",
       "      <th>unit_order_patrol</th>\n",
       "      <th>unit_order_vector_target_position</th>\n",
       "      <th>unit_order_radar</th>\n",
       "      <th>unit_order_set_item_combine_lock</th>\n",
       "      <th>unit_order_continue</th>\n",
       "      <th>radiant_win</th>\n",
       "      <th>game_mode</th>\n",
       "      <th>duration</th>\n",
       "    </tr>\n",
       "  </thead>\n",
       "  <tbody>\n",
       "    <tr>\n",
       "      <th>0</th>\n",
       "      <td>0</td>\n",
       "      <td>0</td>\n",
       "      <td>86</td>\n",
       "      <td>0</td>\n",
       "      <td>3261</td>\n",
       "      <td>10960</td>\n",
       "      <td>347</td>\n",
       "      <td>362</td>\n",
       "      <td>9</td>\n",
       "      <td>3</td>\n",
       "      <td>...</td>\n",
       "      <td>6.0</td>\n",
       "      <td>NaN</td>\n",
       "      <td>NaN</td>\n",
       "      <td>NaN</td>\n",
       "      <td>NaN</td>\n",
       "      <td>NaN</td>\n",
       "      <td>NaN</td>\n",
       "      <td>True</td>\n",
       "      <td>22</td>\n",
       "      <td>2375</td>\n",
       "    </tr>\n",
       "    <tr>\n",
       "      <th>1</th>\n",
       "      <td>0</td>\n",
       "      <td>1</td>\n",
       "      <td>51</td>\n",
       "      <td>1</td>\n",
       "      <td>2954</td>\n",
       "      <td>17760</td>\n",
       "      <td>494</td>\n",
       "      <td>659</td>\n",
       "      <td>13</td>\n",
       "      <td>3</td>\n",
       "      <td>...</td>\n",
       "      <td>14.0</td>\n",
       "      <td>NaN</td>\n",
       "      <td>NaN</td>\n",
       "      <td>NaN</td>\n",
       "      <td>NaN</td>\n",
       "      <td>NaN</td>\n",
       "      <td>NaN</td>\n",
       "      <td>True</td>\n",
       "      <td>22</td>\n",
       "      <td>2375</td>\n",
       "    </tr>\n",
       "    <tr>\n",
       "      <th>2</th>\n",
       "      <td>0</td>\n",
       "      <td>0</td>\n",
       "      <td>83</td>\n",
       "      <td>2</td>\n",
       "      <td>110</td>\n",
       "      <td>12195</td>\n",
       "      <td>350</td>\n",
       "      <td>385</td>\n",
       "      <td>0</td>\n",
       "      <td>4</td>\n",
       "      <td>...</td>\n",
       "      <td>17.0</td>\n",
       "      <td>NaN</td>\n",
       "      <td>NaN</td>\n",
       "      <td>NaN</td>\n",
       "      <td>NaN</td>\n",
       "      <td>NaN</td>\n",
       "      <td>NaN</td>\n",
       "      <td>True</td>\n",
       "      <td>22</td>\n",
       "      <td>2375</td>\n",
       "    </tr>\n",
       "    <tr>\n",
       "      <th>3</th>\n",
       "      <td>0</td>\n",
       "      <td>2</td>\n",
       "      <td>11</td>\n",
       "      <td>3</td>\n",
       "      <td>1179</td>\n",
       "      <td>22505</td>\n",
       "      <td>599</td>\n",
       "      <td>605</td>\n",
       "      <td>8</td>\n",
       "      <td>4</td>\n",
       "      <td>...</td>\n",
       "      <td>13.0</td>\n",
       "      <td>NaN</td>\n",
       "      <td>NaN</td>\n",
       "      <td>NaN</td>\n",
       "      <td>NaN</td>\n",
       "      <td>NaN</td>\n",
       "      <td>NaN</td>\n",
       "      <td>True</td>\n",
       "      <td>22</td>\n",
       "      <td>2375</td>\n",
       "    </tr>\n",
       "    <tr>\n",
       "      <th>4</th>\n",
       "      <td>0</td>\n",
       "      <td>3</td>\n",
       "      <td>67</td>\n",
       "      <td>4</td>\n",
       "      <td>3307</td>\n",
       "      <td>23825</td>\n",
       "      <td>613</td>\n",
       "      <td>762</td>\n",
       "      <td>20</td>\n",
       "      <td>3</td>\n",
       "      <td>...</td>\n",
       "      <td>23.0</td>\n",
       "      <td>NaN</td>\n",
       "      <td>NaN</td>\n",
       "      <td>NaN</td>\n",
       "      <td>NaN</td>\n",
       "      <td>NaN</td>\n",
       "      <td>NaN</td>\n",
       "      <td>True</td>\n",
       "      <td>22</td>\n",
       "      <td>2375</td>\n",
       "    </tr>\n",
       "    <tr>\n",
       "      <th>...</th>\n",
       "      <td>...</td>\n",
       "      <td>...</td>\n",
       "      <td>...</td>\n",
       "      <td>...</td>\n",
       "      <td>...</td>\n",
       "      <td>...</td>\n",
       "      <td>...</td>\n",
       "      <td>...</td>\n",
       "      <td>...</td>\n",
       "      <td>...</td>\n",
       "      <td>...</td>\n",
       "      <td>...</td>\n",
       "      <td>...</td>\n",
       "      <td>...</td>\n",
       "      <td>...</td>\n",
       "      <td>...</td>\n",
       "      <td>...</td>\n",
       "      <td>...</td>\n",
       "      <td>...</td>\n",
       "      <td>...</td>\n",
       "      <td>...</td>\n",
       "    </tr>\n",
       "    <tr>\n",
       "      <th>499995</th>\n",
       "      <td>49999</td>\n",
       "      <td>0</td>\n",
       "      <td>100</td>\n",
       "      <td>128</td>\n",
       "      <td>2718</td>\n",
       "      <td>17735</td>\n",
       "      <td>468</td>\n",
       "      <td>626</td>\n",
       "      <td>16</td>\n",
       "      <td>9</td>\n",
       "      <td>...</td>\n",
       "      <td>6.0</td>\n",
       "      <td>NaN</td>\n",
       "      <td>NaN</td>\n",
       "      <td>NaN</td>\n",
       "      <td>NaN</td>\n",
       "      <td>NaN</td>\n",
       "      <td>NaN</td>\n",
       "      <td>False</td>\n",
       "      <td>22</td>\n",
       "      <td>2788</td>\n",
       "    </tr>\n",
       "    <tr>\n",
       "      <th>499996</th>\n",
       "      <td>49999</td>\n",
       "      <td>0</td>\n",
       "      <td>9</td>\n",
       "      <td>129</td>\n",
       "      <td>3755</td>\n",
       "      <td>20815</td>\n",
       "      <td>507</td>\n",
       "      <td>607</td>\n",
       "      <td>12</td>\n",
       "      <td>6</td>\n",
       "      <td>...</td>\n",
       "      <td>15.0</td>\n",
       "      <td>NaN</td>\n",
       "      <td>NaN</td>\n",
       "      <td>NaN</td>\n",
       "      <td>NaN</td>\n",
       "      <td>NaN</td>\n",
       "      <td>NaN</td>\n",
       "      <td>False</td>\n",
       "      <td>22</td>\n",
       "      <td>2788</td>\n",
       "    </tr>\n",
       "    <tr>\n",
       "      <th>499997</th>\n",
       "      <td>49999</td>\n",
       "      <td>0</td>\n",
       "      <td>90</td>\n",
       "      <td>130</td>\n",
       "      <td>1059</td>\n",
       "      <td>16225</td>\n",
       "      <td>371</td>\n",
       "      <td>404</td>\n",
       "      <td>5</td>\n",
       "      <td>3</td>\n",
       "      <td>...</td>\n",
       "      <td>2.0</td>\n",
       "      <td>NaN</td>\n",
       "      <td>NaN</td>\n",
       "      <td>NaN</td>\n",
       "      <td>NaN</td>\n",
       "      <td>NaN</td>\n",
       "      <td>NaN</td>\n",
       "      <td>False</td>\n",
       "      <td>22</td>\n",
       "      <td>2788</td>\n",
       "    </tr>\n",
       "    <tr>\n",
       "      <th>499998</th>\n",
       "      <td>49999</td>\n",
       "      <td>0</td>\n",
       "      <td>73</td>\n",
       "      <td>131</td>\n",
       "      <td>3165</td>\n",
       "      <td>31015</td>\n",
       "      <td>780</td>\n",
       "      <td>703</td>\n",
       "      <td>8</td>\n",
       "      <td>6</td>\n",
       "      <td>...</td>\n",
       "      <td>4.0</td>\n",
       "      <td>NaN</td>\n",
       "      <td>NaN</td>\n",
       "      <td>NaN</td>\n",
       "      <td>NaN</td>\n",
       "      <td>NaN</td>\n",
       "      <td>NaN</td>\n",
       "      <td>False</td>\n",
       "      <td>22</td>\n",
       "      <td>2788</td>\n",
       "    </tr>\n",
       "    <tr>\n",
       "      <th>499999</th>\n",
       "      <td>49999</td>\n",
       "      <td>158360</td>\n",
       "      <td>53</td>\n",
       "      <td>132</td>\n",
       "      <td>2972</td>\n",
       "      <td>21195</td>\n",
       "      <td>520</td>\n",
       "      <td>533</td>\n",
       "      <td>6</td>\n",
       "      <td>6</td>\n",
       "      <td>...</td>\n",
       "      <td>NaN</td>\n",
       "      <td>NaN</td>\n",
       "      <td>NaN</td>\n",
       "      <td>NaN</td>\n",
       "      <td>NaN</td>\n",
       "      <td>NaN</td>\n",
       "      <td>NaN</td>\n",
       "      <td>False</td>\n",
       "      <td>22</td>\n",
       "      <td>2788</td>\n",
       "    </tr>\n",
       "  </tbody>\n",
       "</table>\n",
       "<p>422200 rows × 76 columns</p>\n",
       "</div>"
      ],
      "text/plain": [
       "        match_id  account_id  hero_id  player_slot  gold  gold_spent  \\\n",
       "0              0           0       86            0  3261       10960   \n",
       "1              0           1       51            1  2954       17760   \n",
       "2              0           0       83            2   110       12195   \n",
       "3              0           2       11            3  1179       22505   \n",
       "4              0           3       67            4  3307       23825   \n",
       "...          ...         ...      ...          ...   ...         ...   \n",
       "499995     49999           0      100          128  2718       17735   \n",
       "499996     49999           0        9          129  3755       20815   \n",
       "499997     49999           0       90          130  1059       16225   \n",
       "499998     49999           0       73          131  3165       31015   \n",
       "499999     49999      158360       53          132  2972       21195   \n",
       "\n",
       "        gold_per_min  xp_per_min  kills  deaths  ...  unit_order_ping_ability  \\\n",
       "0                347         362      9       3  ...                      6.0   \n",
       "1                494         659     13       3  ...                     14.0   \n",
       "2                350         385      0       4  ...                     17.0   \n",
       "3                599         605      8       4  ...                     13.0   \n",
       "4                613         762     20       3  ...                     23.0   \n",
       "...              ...         ...    ...     ...  ...                      ...   \n",
       "499995           468         626     16       9  ...                      6.0   \n",
       "499996           507         607     12       6  ...                     15.0   \n",
       "499997           371         404      5       3  ...                      2.0   \n",
       "499998           780         703      8       6  ...                      4.0   \n",
       "499999           520         533      6       6  ...                      NaN   \n",
       "\n",
       "        unit_order_move_to_direction  unit_order_patrol  \\\n",
       "0                                NaN                NaN   \n",
       "1                                NaN                NaN   \n",
       "2                                NaN                NaN   \n",
       "3                                NaN                NaN   \n",
       "4                                NaN                NaN   \n",
       "...                              ...                ...   \n",
       "499995                           NaN                NaN   \n",
       "499996                           NaN                NaN   \n",
       "499997                           NaN                NaN   \n",
       "499998                           NaN                NaN   \n",
       "499999                           NaN                NaN   \n",
       "\n",
       "       unit_order_vector_target_position  unit_order_radar  \\\n",
       "0                                    NaN               NaN   \n",
       "1                                    NaN               NaN   \n",
       "2                                    NaN               NaN   \n",
       "3                                    NaN               NaN   \n",
       "4                                    NaN               NaN   \n",
       "...                                  ...               ...   \n",
       "499995                               NaN               NaN   \n",
       "499996                               NaN               NaN   \n",
       "499997                               NaN               NaN   \n",
       "499998                               NaN               NaN   \n",
       "499999                               NaN               NaN   \n",
       "\n",
       "        unit_order_set_item_combine_lock  unit_order_continue  radiant_win  \\\n",
       "0                                    NaN                  NaN         True   \n",
       "1                                    NaN                  NaN         True   \n",
       "2                                    NaN                  NaN         True   \n",
       "3                                    NaN                  NaN         True   \n",
       "4                                    NaN                  NaN         True   \n",
       "...                                  ...                  ...          ...   \n",
       "499995                               NaN                  NaN        False   \n",
       "499996                               NaN                  NaN        False   \n",
       "499997                               NaN                  NaN        False   \n",
       "499998                               NaN                  NaN        False   \n",
       "499999                               NaN                  NaN        False   \n",
       "\n",
       "        game_mode  duration  \n",
       "0              22      2375  \n",
       "1              22      2375  \n",
       "2              22      2375  \n",
       "3              22      2375  \n",
       "4              22      2375  \n",
       "...           ...       ...  \n",
       "499995         22      2788  \n",
       "499996         22      2788  \n",
       "499997         22      2788  \n",
       "499998         22      2788  \n",
       "499999         22      2788  \n",
       "\n",
       "[422200 rows x 76 columns]"
      ]
     },
     "execution_count": 3,
     "metadata": {},
     "output_type": "execute_result"
    }
   ],
   "source": [
    "leavers_data = players_data[players_data.leaver_status != 0]\n",
    "match_ids_having_left = leavers_data.match_id.unique()\n",
    "left_mask = players_data['match_id'].isin(match_ids_having_left)\n",
    "players_data = players_data[left_mask == False]\n",
    "players_data"
   ]
  },
  {
   "cell_type": "markdown",
   "metadata": {},
   "source": [
    "#### Remove those are playing too long"
   ]
  },
  {
   "cell_type": "code",
   "execution_count": 4,
   "metadata": {},
   "outputs": [],
   "source": [
    "df = players_data[['hero_id', 'match_id', 'player_slot', 'radiant_win', 'leaver_status']]\n",
    "\n",
    "heroes_number = df.hero_id.max()\n",
    "rad_games = df[df['player_slot'] == 0][['match_id', 'hero_id']]\n",
    "dir_games = df[df['player_slot'] == 1][['match_id', 'hero_id']]\n",
    "\n",
    "# clean those who have left\n",
    "# rad_games = rad_games[rad_games.leaver_status == 0]\n",
    "# dir_games = dir_games[dir_games.leaver_status == 0]\n",
    "\n",
    "rad_heroes = pd.pivot_table(rad_games, index='match_id', aggfunc=len, columns='hero_id', fill_value=0)\n",
    "\n",
    "dir_heroes = pd.pivot_table(dir_games, index='match_id', aggfunc=len, columns='hero_id', fill_value=0)\n",
    "dir_heroes.columns += heroes_number + 1\n",
    "\n",
    "features_df = rad_heroes.merge(dir_heroes, on='match_id')\n",
    "\n",
    "responses = df.drop_duplicates(subset='match_id', keep=\"last\")['radiant_win']"
   ]
  },
  {
   "cell_type": "code",
   "execution_count": 297,
   "metadata": {},
   "outputs": [],
   "source": [
    "def predict(vector):\n",
    "    rad_prob = lr.predict(X_test.iloc[:, np.r_[:113, 111:220]])"
   ]
  },
  {
   "cell_type": "markdown",
   "metadata": {},
   "source": [
    "### Model fitting and assesement"
   ]
  },
  {
   "cell_type": "code",
   "execution_count": 21,
   "metadata": {},
   "outputs": [
    {
     "data": {
      "text/plain": [
       "0.5516342965419233"
      ]
     },
     "execution_count": 21,
     "metadata": {},
     "output_type": "execute_result"
    }
   ],
   "source": [
    "X_train, X_test, y_train, y_test = train_test_split(features_df.iloc[:, np.r_[:113, 111:220]], responses,\n",
    "                                                    test_size=0.10, random_state=44)\n",
    "lr = LogisticRegression(penalty='l1', solver='liblinear')\n",
    "clf = lr.fit(X_train, y_train)\n",
    "clf.score(X_test, y_test)"
   ]
  },
  {
   "cell_type": "code",
   "execution_count": 22,
   "metadata": {},
   "outputs": [
    {
     "data": {
      "text/plain": [
       "0.5281856939838939"
      ]
     },
     "execution_count": 22,
     "metadata": {},
     "output_type": "execute_result"
    }
   ],
   "source": [
    "\n",
    "indices = np.r_[:113, 111:220]\n",
    "reversed_indices = np.r_[111:220, :113]\n",
    "\n",
    "reversed_indices\n",
    "rad_probs = clf.predict_proba(X_test.iloc[:, indices])[:, 1]\n",
    "dir_probs = clf.predict_proba(X_test.iloc[:, reversed_indices])[:, 1]\n",
    "ove_probs = (rad_probs + (1-dir_probs)) / 2\n",
    "is_winning = ove_probs > 0.5\n",
    "# # # is_winning\n",
    "sum(is_winning == y_test) / y_test.shape[0]\n",
    "# # X_test2\n",
    "plot_roc_curve(clf, X_test, y_test);"
   ]
  },
  {
   "cell_type": "code",
   "execution_count": 27,
   "metadata": {},
   "outputs": [
    {
     "data": {
      "image/png": "[encoded data removed]",
      "text/plain": [
       "<Figure size 432x288 with 1 Axes>"
      ]
     },
     "metadata": {
      "needs_background": "light"
     },
     "output_type": "display_data"
    }
   ],
   "source": [
    "mlp = MLPClassifier(hidden_layer_sizes=(16,16,16), activation='relu', solver='adam', max_iter=500)\n",
    "mlp.fit(X_train, y_train)\n",
    "plot_roc_curve(mlp, X_test, y_test);"
   ]
  },
  {
   "cell_type": "code",
   "execution_count": 286,
   "metadata": {},
   "outputs": [
    {
     "data": {
      "text/html": [
       "<style>\n",
       "table {float:left}\n",
       "</style>\n"
      ],
      "text/plain": [
       "<IPython.core.display.HTML object>"
      ]
     },
     "metadata": {},
     "output_type": "display_data"
    }
   ],
   "source": [
    "%%html\n",
    "<style>\n",
    "table {float:left}\n",
    "</style>"
   ]
  },
  {
   "cell_type": "code",
   "execution_count": null,
   "metadata": {},
   "outputs": [],
   "source": []
  }
 ],
 "metadata": {
  "kernelspec": {
   "display_name": "Python 3",
   "language": "python",
   "name": "python3"
  },
  "language_info": {
   "codemirror_mode": {
    "name": "ipython",
    "version": 3
   },
   "file_extension": ".py",
   "mimetype": "text/x-python",
   "name": "python",
   "nbconvert_exporter": "python",
   "pygments_lexer": "ipython3",
   "version": "3.8.3"
  }
 },
 "nbformat": 4,
 "nbformat_minor": 4
}
